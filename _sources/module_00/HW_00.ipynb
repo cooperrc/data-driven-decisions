{
 "cells": [
  {
   "cell_type": "code",
   "execution_count": 1,
   "id": "6840e790",
   "metadata": {},
   "outputs": [],
   "source": [
    "import numpy as np\n",
    "import matplotlib.pyplot as plt\n",
    "plt.style.use('fivethirtyeight')\n",
    "import pandas as pd"
   ]
  },
  {
   "cell_type": "markdown",
   "id": "2148a32a",
   "metadata": {},
   "source": [
    "# HW_00 - Generative AI writing analysis\n",
    "\n",
    "In this assignment, you will generate instructions on brushing your teeth. You can use [ChatGPT](https://chatgpt.com/)\n",
    "\n",
    "Some metrics to add to the generated instructions:\n",
    "\n",
    "- number of strokes per minute\n",
    "- total brushing time\n",
    "- time spent per tooth \n",
    "- number of teeth or total area to brush on teeth\n",
    "- deflection of brush bristles for proper cleaning\n",
    "- what else can you think of?"
   ]
  },
  {
   "cell_type": "markdown",
   "id": "c3825564",
   "metadata": {},
   "source": [
    "## Prompt Input and Output\n",
    "\n",
    "-> _copy-paste your prompts and outputs here_"
   ]
  },
  {
   "cell_type": "markdown",
   "id": "64f3d3ea",
   "metadata": {},
   "source": [
    "## Revised document\n",
    "\n",
    "-> _copy-paste the document here, then edit the output to remove passive phrasing and add specific ideas from your own research or experience (try quantifying any phrases such as 'many', 'fewer', 'more important', etc._"
   ]
  },
  {
   "cell_type": "markdown",
   "id": "ad473b69",
   "metadata": {},
   "source": [
    "## Document analysis\n",
    "\n",
    "- Make a list of all the improvements and changes you made to document\n",
    "- use the `tf_idf.cosineSimilarity` function to compare the AI version to your own\n",
    "\n",
    "Write a report on your intellectual property  in the 'revised document'. \n",
    "- How much can you claim as yours?\n",
    "- How many ideas came from AI?\n",
    "- How many ideas came from you?\n",
    "- Is this a _new_ document?\n",
    "- If this work was made by you and another person-not AI-would you need to credit this person as a coauthor?\n",
    "- What else can you discuss about this comparison and this process?\n",
    "\n",
    "_run the cell below to get your `tf_idf` functions ready to run_"
   ]
  },
  {
   "cell_type": "code",
   "execution_count": 12,
   "id": "07dd45b3",
   "metadata": {},
   "outputs": [
    {
     "name": "stdout",
     "output_type": "stream",
     "text": [
      "Collecting tf-idf-cosimm==0.0.2\n",
      "  Downloading tf_idf_cosimm-0.0.2-py3-none-any.whl.metadata (11 kB)\n",
      "Requirement already satisfied: numpy in /home/ryan/miniconda3/lib/python3.12/site-packages (from tf-idf-cosimm==0.0.2) (1.26.4)\n",
      "Requirement already satisfied: pandas in /home/ryan/miniconda3/lib/python3.12/site-packages (from tf-idf-cosimm==0.0.2) (2.2.2)\n",
      "Requirement already satisfied: nltk in /home/ryan/miniconda3/lib/python3.12/site-packages (from tf-idf-cosimm==0.0.2) (3.8.1)\n",
      "Requirement already satisfied: scikit-learn in /home/ryan/miniconda3/lib/python3.12/site-packages (from tf-idf-cosimm==0.0.2) (1.5.0)\n",
      "Requirement already satisfied: click in /home/ryan/miniconda3/lib/python3.12/site-packages (from nltk->tf-idf-cosimm==0.0.2) (8.1.7)\n",
      "Requirement already satisfied: joblib in /home/ryan/miniconda3/lib/python3.12/site-packages (from nltk->tf-idf-cosimm==0.0.2) (1.4.2)\n",
      "Requirement already satisfied: regex>=2021.8.3 in /home/ryan/miniconda3/lib/python3.12/site-packages (from nltk->tf-idf-cosimm==0.0.2) (2024.5.15)\n",
      "Requirement already satisfied: tqdm in /home/ryan/miniconda3/lib/python3.12/site-packages (from nltk->tf-idf-cosimm==0.0.2) (4.66.2)\n",
      "Requirement already satisfied: python-dateutil>=2.8.2 in /home/ryan/miniconda3/lib/python3.12/site-packages (from pandas->tf-idf-cosimm==0.0.2) (2.9.0.post0)\n",
      "Requirement already satisfied: pytz>=2020.1 in /home/ryan/miniconda3/lib/python3.12/site-packages (from pandas->tf-idf-cosimm==0.0.2) (2024.1)\n",
      "Requirement already satisfied: tzdata>=2022.7 in /home/ryan/miniconda3/lib/python3.12/site-packages (from pandas->tf-idf-cosimm==0.0.2) (2024.1)\n",
      "Requirement already satisfied: scipy>=1.6.0 in /home/ryan/miniconda3/lib/python3.12/site-packages (from scikit-learn->tf-idf-cosimm==0.0.2) (1.13.1)\n",
      "Requirement already satisfied: threadpoolctl>=3.1.0 in /home/ryan/miniconda3/lib/python3.12/site-packages (from scikit-learn->tf-idf-cosimm==0.0.2) (3.5.0)\n",
      "Requirement already satisfied: six>=1.5 in /home/ryan/miniconda3/lib/python3.12/site-packages (from python-dateutil>=2.8.2->pandas->tf-idf-cosimm==0.0.2) (1.16.0)\n",
      "Downloading tf_idf_cosimm-0.0.2-py3-none-any.whl (9.2 kB)\n",
      "Installing collected packages: tf-idf-cosimm\n",
      "  Attempting uninstall: tf-idf-cosimm\n",
      "    Found existing installation: tf_idf_cosimm 0.0.1\n",
      "    Uninstalling tf_idf_cosimm-0.0.1:\n",
      "      Successfully uninstalled tf_idf_cosimm-0.0.1\n",
      "Successfully installed tf-idf-cosimm-0.0.2\n"
     ]
    }
   ],
   "source": [
    "! pip install tf-idf-cosimm==0.0.2"
   ]
  },
  {
   "cell_type": "code",
   "execution_count": 13,
   "id": "a87cd6c7-5db8-43fc-a63b-c3d9fcb4a531",
   "metadata": {},
   "outputs": [],
   "source": [
    "import tf_idf.core as tf_idf"
   ]
  },
  {
   "cell_type": "code",
   "execution_count": 14,
   "id": "a12beb9f-aee7-4e7a-962a-0c5bf22f32b3",
   "metadata": {},
   "outputs": [],
   "source": [
    "AI = '''text from chatGPT'''\n",
    "compare = tf_idf.preprocess_text(AI)"
   ]
  },
  {
   "cell_type": "code",
   "execution_count": 15,
   "id": "bf6f7dc1-3da0-4251-b5a3-a12121939d3b",
   "metadata": {},
   "outputs": [
    {
     "data": {
      "text/html": [
       "<div>\n",
       "<style scoped>\n",
       "    .dataframe tbody tr th:only-of-type {\n",
       "        vertical-align: middle;\n",
       "    }\n",
       "\n",
       "    .dataframe tbody tr th {\n",
       "        vertical-align: top;\n",
       "    }\n",
       "\n",
       "    .dataframe thead th {\n",
       "        text-align: right;\n",
       "    }\n",
       "</style>\n",
       "<table border=\"1\" class=\"dataframe\">\n",
       "  <thead>\n",
       "    <tr style=\"text-align: right;\">\n",
       "      <th></th>\n",
       "      <th>DOCUMENT</th>\n",
       "      <th>LOWERCASE</th>\n",
       "      <th>CLEANING</th>\n",
       "      <th>TOKENIZATION</th>\n",
       "      <th>STOP-WORDS</th>\n",
       "      <th>STEMMING</th>\n",
       "    </tr>\n",
       "  </thead>\n",
       "  <tbody>\n",
       "    <tr>\n",
       "      <th>0</th>\n",
       "      <td>text from chatGPT</td>\n",
       "      <td>text from chatgpt</td>\n",
       "      <td>text from chatgpt</td>\n",
       "      <td>[text, from, chatgpt]</td>\n",
       "      <td>[text, chatgpt]</td>\n",
       "      <td>[text, chatgpt]</td>\n",
       "    </tr>\n",
       "    <tr>\n",
       "      <th>1</th>\n",
       "      <td>my edited text</td>\n",
       "      <td>my edited text</td>\n",
       "      <td>my edited text</td>\n",
       "      <td>[my, edited, text]</td>\n",
       "      <td>[edited, text]</td>\n",
       "      <td>[edit, text]</td>\n",
       "    </tr>\n",
       "  </tbody>\n",
       "</table>\n",
       "</div>"
      ],
      "text/plain": [
       "            DOCUMENT          LOWERCASE           CLEANING  \\\n",
       "0  text from chatGPT  text from chatgpt  text from chatgpt   \n",
       "1     my edited text     my edited text     my edited text   \n",
       "\n",
       "            TOKENIZATION       STOP-WORDS         STEMMING  \n",
       "0  [text, from, chatgpt]  [text, chatgpt]  [text, chatgpt]  \n",
       "1     [my, edited, text]   [edited, text]     [edit, text]  "
      ]
     },
     "execution_count": 15,
     "metadata": {},
     "output_type": "execute_result"
    }
   ],
   "source": [
    "ME = '''my edited text'''\n",
    "compare = pd.concat([compare, tf_idf.preprocess_text(ME)], \n",
    "                    ignore_index=True)\n",
    "compare"
   ]
  },
  {
   "cell_type": "code",
   "execution_count": 16,
   "id": "4b7f89e7-4272-472a-8f81-cbb5884207e7",
   "metadata": {},
   "outputs": [
    {
     "data": {
      "text/html": [
       "<div>\n",
       "<style scoped>\n",
       "    .dataframe tbody tr th:only-of-type {\n",
       "        vertical-align: middle;\n",
       "    }\n",
       "\n",
       "    .dataframe tbody tr th {\n",
       "        vertical-align: top;\n",
       "    }\n",
       "\n",
       "    .dataframe thead th {\n",
       "        text-align: right;\n",
       "    }\n",
       "</style>\n",
       "<table border=\"1\" class=\"dataframe\">\n",
       "  <thead>\n",
       "    <tr style=\"text-align: right;\">\n",
       "      <th></th>\n",
       "      <th>DOCUMENT</th>\n",
       "      <th>STEMMING</th>\n",
       "      <th>COSIM</th>\n",
       "    </tr>\n",
       "  </thead>\n",
       "  <tbody>\n",
       "    <tr>\n",
       "      <th>0</th>\n",
       "      <td>text from chatGPT</td>\n",
       "      <td>[text, chatgpt]</td>\n",
       "      <td>1.000000</td>\n",
       "    </tr>\n",
       "    <tr>\n",
       "      <th>1</th>\n",
       "      <td>my edited text</td>\n",
       "      <td>[edit, text]</td>\n",
       "      <td>0.336097</td>\n",
       "    </tr>\n",
       "  </tbody>\n",
       "</table>\n",
       "</div>"
      ],
      "text/plain": [
       "            DOCUMENT         STEMMING     COSIM\n",
       "0  text from chatGPT  [text, chatgpt]  1.000000\n",
       "1     my edited text     [edit, text]  0.336097"
      ]
     },
     "execution_count": 16,
     "metadata": {},
     "output_type": "execute_result"
    }
   ],
   "source": [
    "tf_idf.cosineSimilarity(compare)"
   ]
  },
  {
   "cell_type": "code",
   "execution_count": null,
   "id": "1d6d74a1-a120-42a1-b2fb-73c69011c3de",
   "metadata": {},
   "outputs": [],
   "source": []
  }
 ],
 "metadata": {
  "jupytext": {
   "formats": "md:myst,ipynb"
  },
  "kernelspec": {
   "display_name": "Python 3 (ipykernel)",
   "language": "python",
   "name": "python3"
  },
  "language_info": {
   "codemirror_mode": {
    "name": "ipython",
    "version": 3
   },
   "file_extension": ".py",
   "mimetype": "text/x-python",
   "name": "python",
   "nbconvert_exporter": "python",
   "pygments_lexer": "ipython3",
   "version": "3.10.14"
  }
 },
 "nbformat": 4,
 "nbformat_minor": 5
}
