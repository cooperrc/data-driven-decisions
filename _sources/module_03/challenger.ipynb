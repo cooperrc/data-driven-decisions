{
 "cells": [
  {
   "cell_type": "code",
   "execution_count": 187,
   "metadata": {
    "tags": []
   },
   "outputs": [],
   "source": [
    "import numpy as np\n",
    "import matplotlib.pyplot as plt\n",
    "from scipy.optimize import fmin\n",
    "plt.style.use('fivethirtyeight')"
   ]
  },
  {
   "cell_type": "markdown",
   "metadata": {},
   "source": [
    "# Challenger explosion\n",
    "\n",
    "In 1986, the Challenger shuttle broke apart and tragically killed seven crew members. This engineering failure spurred a thorough investigation into root cause analysis. Debris was carefully recovered and catalogues by 8 ships and 12 aircrafts over 2 months. \n",
    "\n",
    "## O-ring failure\n",
    "\n",
    "![Cross-sectional diagram of the original SRB field joint. The top end of the lower rocket segment has a deep U-shaped cavity, or clevis, along its circumference. The bottom end of the top segment extends to form a tang that fits snugly into the clevis of the bottom segment. Two parallel grooves near the top of the clevis inner branch hold ~20 foot (6 meter) diameter O-rings that seal the gap between the tang and the clevis, keeping hot gases out.](https://upload.wikimedia.org/wikipedia/commons/thumb/c/c8/RogersCommission-v1p57_cropped.jpg/220px-RogersCommission-v1p57_cropped.jpg)\n",
    "\n",
    "The primary cause of failure in this case was the O-ring in the Solid Rocket Booster (SRB) section shown above. The temperature on the day of the launch was $18^oF~(-8^oC)$. This was the coldest temperature of a space shuttle launch, but O-ring data was not conclusive enough to cancel the launch. \n",
    "\n",
    "Let's take a deeper look at the O-ring data for the Challenger O-rings. Below, we load the challenger O-ring data into an array where the data is, \n",
    "\n",
    "|Flight#|Temp|O-Ring Problem (1 = Fail, 0 = Passed)|\n",
    "|---| ---|---|\n",
    "|1 | 53 | 1 |\n",
    "2|57|1\n",
    "3|58|1\n",
    "4|63|1\n",
    "5|66|0\n",
    "6|66.8|0\n",
    "7|67|0\n",
    "8|67.2|0\n",
    "9|68|0\n",
    "10|69|0\n",
    "11|69.8|1\n",
    "12|69.8|0\n",
    "13|70.2|1\n",
    "14|70.2|0\n",
    "15|72|0\n",
    "16|73|0\n",
    "17|75|0\n",
    "18|75|1\n",
    "19|75.8|0\n",
    "20|76.2|0\n",
    "21|78|0\n",
    "22|79|0\n",
    "23|81|0"
   ]
  },
  {
   "cell_type": "code",
   "execution_count": 188,
   "metadata": {},
   "outputs": [],
   "source": [
    "oring = np.loadtxt('./challenger_oring.csv', delimiter=',', skiprows= 1)\n",
    "nring = np.loadtxt('./new_oring.csv', delimiter=',', skiprows= 1)"
   ]
  },
  {
   "cell_type": "markdown",
   "metadata": {},
   "source": [
    "## Predicting failure\n",
    "\n",
    "In this data set, we can't draw a histogram or average the data because we only have two possible outcomes: pass or fail. One way to visualize the data is to plot each pass and fail along the temperature axis since we are correlating temperature and failure. "
   ]
  },
  {
   "cell_type": "code",
   "execution_count": 189,
   "metadata": {},
   "outputs": [
    {
     "data": {
      "text/plain": [
       "[<matplotlib.lines.Line2D at 0x740b4e90fa90>]"
      ]
     },
     "execution_count": 189,
     "metadata": {},
     "output_type": "execute_result"
    },
    {
     "data": {
      "image/png": "[encoded data removed]",
      "text/plain": [
       "<Figure size 432x288 with 1 Axes>"
      ]
     },
     "metadata": {},
     "output_type": "display_data"
    }
   ],
   "source": [
    "F = oring[:, 2] == 1\n",
    "P = oring[:, 2] == 0\n",
    "plt.plot(oring[P, 1], oring[P, 2], 'go')\n",
    "plt.plot(oring[F, 1], oring[F, 2], 'rx')"
   ]
  },
  {
   "cell_type": "markdown",
   "metadata": {},
   "source": [
    "The plot above shows that we have some O-rings fail at 70-75F, but many O-rings pass down to 67F. In hindsight, it is seems reasonable to cancel the launch anywhere below 55F because there is demonstrable failure at those temperatures. But, When should you cancel the launch due to unsafe O-ring temperatures? Hotter is better, but there are a number of other systems that have other requirements where timing, personnel, money, and other complicating factors could affect the safety of the mission and its pilots. \n",
    "\n"
   ]
  },
  {
   "cell_type": "markdown",
   "metadata": {},
   "source": [
    "## Case Study: Logistic Regression of Challenger O-rings\n",
    "\n",
    "The challenger O-ring data is in a common form. The variable we are trying to predict is a binary (or discrete) value, such as pass/fail, broken/not-broken, etc. \n",
    "\n",
    "One method to fit this type of data is called [**logistic regression**](https://en.wikipedia.org/wiki/Logistic_regression).\n",
    "\n",
    "[Logistic Regression link 2](http://www.holehouse.org/mlclass/06_Logistic_Regression.html)\n",
    "\n",
    "We use a function that varies from 0 to 1 called a logistic function (a.k.a. [sigmoid](https://en.wikipedia.org/wiki/Sigmoid_function):\n",
    "\n",
    "$\\sigma(t)=\\frac{1}{1+e^{t}}$\n",
    "\n",
    "We can use this function to describe the likelihood of failure (1) or success (0). When t=0, the probability of failure is 50%. "
   ]
  },
  {
   "cell_type": "code",
   "execution_count": 190,
   "metadata": {
    "collapsed": false,
    "jupyter": {
     "outputs_hidden": false
    }
   },
   "outputs": [
    {
     "data": {
      "text/plain": [
       "[<matplotlib.lines.Line2D at 0x740b4e8e5640>]"
      ]
     },
     "execution_count": 190,
     "metadata": {},
     "output_type": "execute_result"
    },
    {
     "data": {
      "image/png": "[encoded data removed]",
      "text/plain": [
       "<Figure size 432x288 with 1 Axes>"
      ]
     },
     "metadata": {},
     "output_type": "display_data"
    }
   ],
   "source": [
    "t=np.linspace(-10,10);\n",
    "sigma= lambda t: 1/(1+np.exp(t));\n",
    "plt.plot(t,sigma(t))"
   ]
  },
  {
   "cell_type": "markdown",
   "metadata": {},
   "source": [
    "Now we make the assumption that we can predict the boundary between the pass-fail criteria with a function of our independent variable e.g.\n",
    "\n",
    "$y=\\left\\{\\begin{array}{cc} \n",
    "1 & a_{0}+a_{1}x +\\epsilon >0 \\\\\n",
    "0 & else \\end{array} \\right\\}$\n",
    "\n",
    "so the logistic function is now:\n",
    "\n",
    "$\\sigma(x)=\\frac{1}{1+e^{-(a_{0}+a_{1}x)}}$\n",
    "\n",
    "If we choose $a_0~and~a_1$ properly, we should have a smooth function that starts at 1 (Failure) and ends at 0 (Pass) for any temperature, but what values should we use? Try changing `a0` and `a1` below to see what happens, \n",
    "\n",
    "_Note: remember we're taking the $\\log$ of these values so they are **very** sensitive._"
   ]
  },
  {
   "cell_type": "code",
   "execution_count": 191,
   "metadata": {},
   "outputs": [
    {
     "data": {
      "text/plain": [
       "[<matplotlib.lines.Line2D at 0x740b4e8b9c70>]"
      ]
     },
     "execution_count": 191,
     "metadata": {},
     "output_type": "execute_result"
    },
    {
     "data": {
      "image/png": "[encoded data removed]",
      "text/plain": [
       "<Figure size 432x288 with 1 Axes>"
      ]
     },
     "metadata": {},
     "output_type": "display_data"
    }
   ],
   "source": [
    "a0 = -65\n",
    "a1 = 1\n",
    "T = np.linspace(53, 81)\n",
    "plt.plot(T, sigma(a0+a1*T))\n",
    "plt.plot(oring[P, 1], oring[P, 2], 'go')\n",
    "plt.plot(oring[F, 1], oring[F, 2], 'rx')"
   ]
  },
  {
   "cell_type": "markdown",
   "metadata": {},
   "source": [
    "The standard method for finding the optimal `a0` and `a1` values is using a cost function: \n",
    "\n",
    "$J(a_{0},a_{1})=\\sum_{i=1}^{n}\\left[-y_{i}\\log(\\sigma(x_{i}))-(1-y_{i})\\log((1-\\sigma(x_{i})))\\right]$\n",
    "\n",
    "where $y= 0~or~1$\n",
    "\n",
    "So if we consider the \"cost\" of the initial guess above, we have\n",
    "\n"
   ]
  },
  {
   "cell_type": "code",
   "execution_count": 192,
   "metadata": {},
   "outputs": [
    {
     "data": {
      "text/plain": [
       "1.9019944388472643"
      ]
     },
     "execution_count": 192,
     "metadata": {},
     "output_type": "execute_result"
    }
   ],
   "source": [
    "t = a0 + a1*oring[:, 1];\n",
    "y = oring[:, 2]\n",
    "J = 1/len(data)*np.sum(-y*np.log(sigma(t))-(1-y)*np.log(1-sigma(t)))\n",
    "J"
   ]
  },
  {
   "cell_type": "markdown",
   "metadata": {},
   "source": [
    "taking this further, we could calculate the cost for a range of `a0` values,"
   ]
  },
  {
   "cell_type": "code",
   "execution_count": 193,
   "metadata": {},
   "outputs": [
    {
     "data": {
      "text/plain": [
       "Text(0, 0.5, 'cost, J')"
      ]
     },
     "execution_count": 193,
     "metadata": {},
     "output_type": "execute_result"
    },
    {
     "data": {
      "image/png": "[encoded data removed]",
      "text/plain": [
       "<Figure size 432x288 with 1 Axes>"
      ]
     },
     "metadata": {},
     "output_type": "display_data"
    }
   ],
   "source": [
    "a0lin = np.linspace(-70, -60)\n",
    "J = np.zeros(len(a0lin))\n",
    "for i, a0 in enumerate(a0lin):\n",
    "    t = a0 + a1*oring[:, 1];\n",
    "    y = oring[:, 2]\n",
    "    J[i] = 1/len(data)*np.sum(-y*np.log(sigma(t))-(1-y)*np.log(1-sigma(t)))\n",
    "plt.plot(a0lin, J)\n",
    "plt.xlabel('a0')\n",
    "plt.ylabel('cost, J')"
   ]
  },
  {
   "cell_type": "markdown",
   "metadata": {},
   "source": [
    "The cost will never become 0 because we're trying to predict _probability_ of failure, not pass/fail values e.g. the function varies 0-1 instead of being 0 _or_ 1. "
   ]
  },
  {
   "cell_type": "code",
   "execution_count": 194,
   "metadata": {
    "tags": []
   },
   "outputs": [],
   "source": [
    "def cost_logistic(a,x,y):\n",
    "    '''Create function to calculate cost of logistic function\n",
    "    t = a0+a1*x\n",
    "    sigma(t) = 1/(1+e^(t))'''\n",
    "    \n",
    "    sigma=lambda t: 1/(1+np.exp(t))\n",
    "    \n",
    "    a0 = a[0]\n",
    "    a1 = a[1]\n",
    "    \n",
    "    t = a0+a1*x\n",
    "    \n",
    "    J = 1/len(x)*np.sum(-y*np.log(sigma(t))-(1-y)*np.log(1 - sigma(t) + np.finfo(float).eps))\n",
    "    return J\n",
    "\n"
   ]
  },
  {
   "cell_type": "code",
   "execution_count": 195,
   "metadata": {},
   "outputs": [
    {
     "data": {
      "text/plain": [
       "1.3132616875182221"
      ]
     },
     "execution_count": 195,
     "metadata": {},
     "output_type": "execute_result"
    }
   ],
   "source": [
    "TF = 0\n",
    "t = -1\n",
    "-TF*np.log(sigma(t)) - (1-TF)*np.log(1 - sigma(t)+np.finfo(float).eps)"
   ]
  },
  {
   "cell_type": "code",
   "execution_count": 196,
   "metadata": {
    "collapsed": false,
    "jupyter": {
     "outputs_hidden": false
    }
   },
   "outputs": [
    {
     "name": "stdout",
     "output_type": "stream",
     "text": [
      "Optimization terminated successfully.\n",
      "         Current function value: 0.441696\n",
      "         Iterations: 62\n",
      "         Function evaluations: 121\n",
      "[-15.03439342   0.23204062]\n"
     ]
    }
   ],
   "source": [
    "a=fmin(lambda a: cost_logistic(a,oring[:,1],oring[:,2]),[100,-1])\n",
    "\n",
    "print(a)"
   ]
  },
  {
   "cell_type": "code",
   "execution_count": 197,
   "metadata": {
    "collapsed": false,
    "jupyter": {
     "outputs_hidden": false
    }
   },
   "outputs": [
    {
     "data": {
      "text/plain": [
       "(50.0, 85.0, -0.1, 1.2)"
      ]
     },
     "execution_count": 197,
     "metadata": {},
     "output_type": "execute_result"
    },
    {
     "data": {
      "image/png": "[encoded data removed]",
      "text/plain": [
       "<Figure size 432x288 with 1 Axes>"
      ]
     },
     "metadata": {},
     "output_type": "display_data"
    }
   ],
   "source": [
    "T=np.linspace(50,85);\n",
    "plt.plot(oring[P, 1], oring[P, 2], 'go')\n",
    "plt.plot(oring[F, 1], oring[F, 2], 'rx')\n",
    "plt.plot(T,sigma(a[0]+a[1]*T))\n",
    "plt.step(oring[::-1, 1], np.cumsum(oring[::-1, 2])/len(oring[F]), )\n",
    "plt.axis([50,85,-0.1,1.2])"
   ]
  },
  {
   "cell_type": "code",
   "execution_count": 198,
   "metadata": {
    "collapsed": false,
    "jupyter": {
     "outputs_hidden": false
    }
   },
   "outputs": [
    {
     "name": "stdout",
     "output_type": "stream",
     "text": [
      "probability of failure when 70 degrees is 22.9975 %\n",
      "probability of failure when 60 degrees is 75.2494 %\n",
      "probability of failure when 18 degrees is 99.9981 %\n"
     ]
    }
   ],
   "source": [
    "print('probability of failure when 70 degrees is {:1.6} %'.format(100*sigma(a[0]+a[1]*70)))\n",
    "print('probability of failure when 60 degrees is {:1.6} %'.format(100*sigma(a[0]+a[1]*60)))\n",
    "print('probability of failure when 18 degrees is {:1.6} %'.format(100*sigma(a[0]+a[1]*18)))\n"
   ]
  },
  {
   "cell_type": "code",
   "execution_count": null,
   "metadata": {},
   "outputs": [],
   "source": []
  },
  {
   "cell_type": "code",
   "execution_count": 199,
   "metadata": {},
   "outputs": [
    {
     "name": "stdout",
     "output_type": "stream",
     "text": [
      "Optimization terminated successfully.\n",
      "         Current function value: 0.131831\n",
      "         Iterations: 68\n",
      "         Function evaluations: 124\n"
     ]
    },
    {
     "data": {
      "text/plain": [
       "array([-41.09923724,   0.56278471])"
      ]
     },
     "execution_count": 199,
     "metadata": {},
     "output_type": "execute_result"
    },
    {
     "data": {
      "image/png": "[encoded data removed]",
      "text/plain": [
       "<Figure size 432x288 with 1 Axes>"
      ]
     },
     "metadata": {},
     "output_type": "display_data"
    }
   ],
   "source": [
    "F = nring[:, 2] == 1\n",
    "P = nring[:, 2] == 0\n",
    "\n",
    "a=fmin(lambda a: cost_logistic(a,nring[:,1],nring[:,2]),[100,-1])\n",
    "\n",
    "plt.plot(nring[P, 1], nring[P, 2], 'go')\n",
    "plt.plot(nring[F, 1], nring[F, 2], 'rx')\n",
    "plt.step(nring[::-1, 1], np.cumsum(nring[::-1, 2])/len(nring[F]))\n",
    "plt.plot(T,sigma(a[0]+a[1]*T))\n",
    "a"
   ]
  },
  {
   "cell_type": "code",
   "execution_count": 200,
   "metadata": {},
   "outputs": [
    {
     "name": "stdout",
     "output_type": "stream",
     "text": [
      "probability of failure when 80 degrees is 1.93877 %\n",
      "probability of failure when 60 degrees is 99.9346 %\n"
     ]
    }
   ],
   "source": [
    "print('probability of failure when 80 degrees is {:1.6} %'.format(100*sigma(a[0]+a[1]*80)))\n",
    "print('probability of failure when 60 degrees is {:1.6} %'.format(100*sigma(a[0]+a[1]*60)))\n",
    "\n"
   ]
  },
  {
   "cell_type": "code",
   "execution_count": null,
   "metadata": {},
   "outputs": [],
   "source": []
  }
 ],
 "metadata": {
  "kernelspec": {
   "display_name": "Python 3",
   "language": "python",
   "name": "python3"
  },
  "language_info": {
   "codemirror_mode": {
    "name": "ipython",
    "version": 3
   },
   "file_extension": ".py",
   "mimetype": "text/x-python",
   "name": "python",
   "nbconvert_exporter": "python",
   "pygments_lexer": "ipython3",
   "version": "3.9.0"
  }
 },
 "nbformat": 4,
 "nbformat_minor": 4
}
