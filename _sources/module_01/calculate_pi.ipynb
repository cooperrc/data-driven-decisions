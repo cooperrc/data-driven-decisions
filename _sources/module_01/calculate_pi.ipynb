{
 "cells": [
  {
   "cell_type": "code",
   "execution_count": 24,
   "id": "306369b1",
   "metadata": {},
   "outputs": [],
   "source": [
    "import numpy as np\n",
    "import matplotlib.pyplot as plt\n",
    "import scipy.stats as stats\n",
    "plt.style.use('fivethirtyeight')"
   ]
  },
  {
   "cell_type": "markdown",
   "id": "3aae9306",
   "metadata": {},
   "source": [
    "# Calculating $\\pi$ with Monte Carlo\n",
    "\n"
   ]
  },
  {
   "cell_type": "markdown",
   "id": "f38150af",
   "metadata": {},
   "source": [
    "Assuming we can actually generate random numbers (a topic of philosophical and heated debates) we can populate a unit square with random points and determine the ratio of points inside and outside of a circle.\n",
    "\n",
    "![Unit circle and unit square](../images/MonteCarloPi.gif)\n",
    "\n",
    "![1/4 Unit circle and 1/4 unit square](../images/MonteCarloPi_rand.gif)\n",
    "\n",
    "\n",
    "The ratio of the area of the circle to the square is:\n",
    "\n",
    "$\\frac{\\pi r^{2}}{4r^{2}}=\\frac{\\pi}{4}$\n",
    "\n",
    "So if we know the fraction of random points that are within the unit circle, then we can calculate $\\pi$\n",
    "\n",
    "(number of points in circle)/(total number of points)=$\\pi/4$"
   ]
  },
  {
   "cell_type": "code",
   "execution_count": 25,
   "id": "8f0c4ced",
   "metadata": {},
   "outputs": [],
   "source": [
    "from numpy.random import default_rng"
   ]
  },
  {
   "cell_type": "code",
   "execution_count": 26,
   "id": "c4d170ea",
   "metadata": {},
   "outputs": [
    {
     "data": {
      "text/plain": [
       "3.148"
      ]
     },
     "execution_count": 26,
     "metadata": {},
     "output_type": "execute_result"
    }
   ],
   "source": [
    "rng = default_rng(42)\n",
    "\n",
    "N = 1000\n",
    "\n",
    "x = rng.random(N)\n",
    "y = rng.random(N)\n",
    "\n",
    "r = x**2 + y**2\n",
    "\n",
    "np.sum(r < 1**2)/N*4"
   ]
  },
  {
   "cell_type": "markdown",
   "id": "98a6f26d",
   "metadata": {},
   "source": [
    "In this example with 1000 random x-, y-coordinates, we calculate the value of $\\pi \\approx 3.148$. The accuracy of this result is \n",
    "\n",
    "$accuracy = error = \\frac{|3.148 - \\pi|}{\\pi} = 0.2\\%$\n",
    "\n",
    "What is the _precision_ of the result?\n",
    "\n",
    "The precision is a measure of the range of expected values. So, we need more trials. "
   ]
  },
  {
   "cell_type": "code",
   "execution_count": 27,
   "id": "52f81472",
   "metadata": {},
   "outputs": [
    {
     "data": {
      "text/plain": [
       "3.144"
      ]
     },
     "execution_count": 27,
     "metadata": {},
     "output_type": "execute_result"
    }
   ],
   "source": [
    "rng = default_rng(41)\n",
    "\n",
    "N = 1000\n",
    "\n",
    "x = rng.random(N)\n",
    "y = rng.random(N)\n",
    "\n",
    "r = x**2 + y**2\n",
    "\n",
    "np.sum(r < 1**2)/N*4"
   ]
  },
  {
   "cell_type": "markdown",
   "id": "4ab16daa",
   "metadata": {},
   "source": [
    "Using a `seed = 41`, the result is $\\pi = 3.144$. So far we can report that $\\pi = 3.146\\pm0.002$ _if we use the average of the calculations and the range = max - min_. \n",
    "\n",
    "The key part of Monte Carlo methods is to use lots of random numbers to get better results. We can run the same analysis $100\\times$ and see how much variation we get. "
   ]
  },
  {
   "cell_type": "code",
   "execution_count": 32,
   "id": "12161542",
   "metadata": {},
   "outputs": [
    {
     "data": {
      "text/plain": [
       "Text(0.5, 1.0, 'Value of $\\\\pi=$3.140$\\\\pm$0.050')"
      ]
     },
     "execution_count": 32,
     "metadata": {},
     "output_type": "execute_result"
    },
    {
     "data": {
      "image/png": "[encoded data removed]",
      "text/plain": [
       "<Figure size 432x288 with 1 Axes>"
      ]
     },
     "metadata": {},
     "output_type": "display_data"
    }
   ],
   "source": [
    "rng = default_rng(42)\n",
    "\n",
    "N = 1000\n",
    "trials = 100\n",
    "pi_trial = np.zeros(trials)\n",
    "for i in range(trials):\n",
    "    x = rng.random(N)\n",
    "    y = rng.random(N)\n",
    "\n",
    "    r = x**2 + y**2\n",
    "\n",
    "    pi_trial[i] = np.sum(r < 1**2)/N*4\n",
    "\n",
    "mean_pi = np.mean(pi_trial)\n",
    "std_pi = np.std(pi_trial)\n",
    "plt.hist(pi_trial, 20, density=True)\n",
    "x = np.linspace(3, 3.3)\n",
    "pi_pdf = stats.norm.pdf(x, loc = mean_pi, scale = std_pi)\n",
    "plt.plot(x, pi_pdf)\n",
    "plt.title(r'Value of $\\pi=${:1.3f}$\\pm${:1.3f}'.format(mean_pi, std_pi))"
   ]
  },
  {
   "cell_type": "markdown",
   "id": "e43ca222",
   "metadata": {},
   "source": [
    "In the plot above, we calculate $\\pi$ 100 times using 1000 random x- and y-coordinates. The histogram has the data from the `pi_trial` and a normal distribution curve using the mean and standard deviation of `pi_trial`. \n",
    "\n",
    "Many random variables fit this distribution, called the normal distribution."
   ]
  },
  {
   "cell_type": "markdown",
   "id": "0bf37f33",
   "metadata": {},
   "source": [
    "### Comparing with a normal distribution\n",
    "\n",
    "A **normal** (or Gaussian) distribution is a special type of\n",
    "distrubution that behaves as shown in the figure: 68% of the values are\n",
    "within one standard deviation $\\sigma$ from the mean; 95% lie within\n",
    "$2\\sigma$; and at a distance of $\\pm3\\sigma$ from the mean, you cover\n",
    "99.7% of the values. This fact is known as the $3$-$\\sigma$ rule, or\n",
    "68-95-99.7 (empirical) rule.\n",
    "\n",
    "![Normal distribution bell curve with 1st second and third standard\n",
    "deviations marking out 68\\%, 95\\%, and 99.7\\% of the distribution.](../images/std_bell_curve.svg)\n",
    "\n",
    "####  Standard deviation and coverage in a normal distribution. Modified figure based on original from [Wikimedia Commons](https://commons.wikimedia.org/wiki/File:Standard_deviation_diagram.svg), the free media repository.\n",
    "\n",
    "\n",
    "Many histograms don't follow the shape of a normal\n",
    "distribution, known as *Bell Curve*. The calculated values of $\\pi$ are centered on \n",
    "the mean value, and they are symetric with respect to it. They are _not_\n",
    " **skewed** to the right or left. A right (or positive) skewed distribution  looks like it's been pushed to the left: the right tail is longer and most of the values are concentrated on the left of the figure. Imagine that \"right-skewed\" means that a force from the right pushes on the curve."
   ]
  },
  {
   "cell_type": "code",
   "execution_count": 60,
   "id": "a99a23c4",
   "metadata": {},
   "outputs": [
    {
     "data": {
      "image/png": "[encoded data removed]",
      "text/plain": [
       "<Figure size 432x288 with 1 Axes>"
      ]
     },
     "metadata": {},
     "output_type": "display_data"
    }
   ],
   "source": [
    "x4 = rng.normal(loc = 1, scale = 0.12, size = 1000)**4\n",
    "plt.hist(x4, 50)\n",
    "plt.title('right-skewed distribution\\n'+r'resulting from $(x=1\\pm0.12)^4$');"
   ]
  },
  {
   "cell_type": "markdown",
   "id": "d782f69a",
   "metadata": {},
   "source": [
    "When the mean = mode and the histogram is symmetric, we typically report the mean, standard deviation and number of random numbers. "
   ]
  }
 ],
 "metadata": {
  "kernelspec": {
   "display_name": "Python 3 (ipykernel)",
   "language": "python",
   "name": "python3"
  },
  "language_info": {
   "codemirror_mode": {
    "name": "ipython",
    "version": 3
   },
   "file_extension": ".py",
   "mimetype": "text/x-python",
   "name": "python",
   "nbconvert_exporter": "python",
   "pygments_lexer": "ipython3",
   "version": "3.10.14"
  }
 },
 "nbformat": 4,
 "nbformat_minor": 5
}
