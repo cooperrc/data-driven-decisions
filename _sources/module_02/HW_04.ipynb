{
 "cells": [
  {
   "cell_type": "code",
   "execution_count": 1,
   "id": "047298e4-07fe-4952-841a-0203995aef0e",
   "metadata": {},
   "outputs": [],
   "source": [
    "import numpy as np\n",
    "import matplotlib.pyplot as plt\n",
    "plt.style.use('fivethirtyeight')\n",
    "\n",
    "from numpy.random import default_rng\n",
    "rng = default_rng()"
   ]
  },
  {
   "cell_type": "markdown",
   "id": "a6d92daa-36b6-48da-b9db-19f70973ee31",
   "metadata": {},
   "source": [
    "## HW_04 - Exercise: failure prediction\n",
    "\n",
    "In the [dropping keys experiment](./drop_keys.ipynb), we ended the trials when the virtual person _succeeded_ in entering the room. What would this look like if an engineering process _failed_ when a certain device is used?\n",
    "\n",
    "Consider a manufacturing plant that produces uses O-rings in the assembly. The O-rings are the weakest link in the design. Your company needs to use 10 O-rings in every device you manufacture. If one O-ring fails, the whole device fails. Your quality control team knows the O-rings fail 1-out-of-10 times. When you test a device, if it fails the rings are discarded and ten more used to assemble the device. \n",
    "\n",
    "Your manager wants you to come up with a process to assemble these parts. The manager thinks that each part will need to be reassembled 10% of the time, regardless of the number of times its failed. See if you can recommend a process that makes use of this new knowledge that repeated assemblies have a decreased chance of failure. \n",
    "\n"
   ]
  },
  {
   "cell_type": "code",
   "execution_count": 9,
   "id": "84ec401f-2cd5-44c5-9194-7bc2b336340e",
   "metadata": {},
   "outputs": [
    {
     "data": {
      "text/plain": [
       "(array([  0., 952., 888., 838., 733., 667., 594., 504., 483., 411., 405.,\n",
       "        370., 331., 277., 243., 232., 182., 201., 163., 168., 136., 110.,\n",
       "        121.,  98.,  83.,  81.,  65.,  62.,  51.,  53.,  41.,  40.,  49.,\n",
       "         39.,  34.,  34.,  18.,  23.,  28.,  27.,  14.,  16.,   9.,   9.,\n",
       "         13.,  12.,   9.,   9.,  11.,   8.,   8.,   4.,   5.,   6.,   4.,\n",
       "          2.,   2.,   2.,   2.,   2.,   2.,   1.,   1.,   1.,   0.,   0.,\n",
       "          3.,   0.,   1.,   2.,   0.,   1.,   0.,   2.,   0.,   0.,   0.,\n",
       "          0.,   0.,   0.,   2.,   0.,   0.,   1.,   0.]),\n",
       " array([ 0.,  1.,  2.,  3.,  4.,  5.,  6.,  7.,  8.,  9., 10., 11., 12.,\n",
       "        13., 14., 15., 16., 17., 18., 19., 20., 21., 22., 23., 24., 25.,\n",
       "        26., 27., 28., 29., 30., 31., 32., 33., 34., 35., 36., 37., 38.,\n",
       "        39., 40., 41., 42., 43., 44., 45., 46., 47., 48., 49., 50., 51.,\n",
       "        52., 53., 54., 55., 56., 57., 58., 59., 60., 61., 62., 63., 64.,\n",
       "        65., 66., 67., 68., 69., 70., 71., 72., 73., 74., 75., 76., 77.,\n",
       "        78., 79., 80., 81., 82., 83., 84., 85.]),\n",
       " <BarContainer object of 85 artists>)"
      ]
     },
     "execution_count": 9,
     "metadata": {},
     "output_type": "execute_result"
    },
    {
     "data": {
      "image/png": "[encoded data removed]",
      "text/plain": [
       "<Figure size 432x288 with 1 Axes>"
      ]
     },
     "metadata": {},
     "output_type": "display_data"
    }
   ],
   "source": [
    "N = 10000\n",
    "cases = np.zeros(N)\n",
    "keys = np.arange(10)\n",
    "for ncase in range(N):\n",
    "    tries = 0\n",
    "    key = 10\n",
    "    while key != 0:\n",
    "        key = rng.integers(len(keys), size = 1)\n",
    "        tries += 1\n",
    "    cases[ncase] = tries\n",
    "plt.hist(cases, bins = np.arange(np.max(cases)))"
   ]
  },
  {
   "cell_type": "code",
   "execution_count": 10,
   "id": "ffd2855a-c4ce-4180-a426-74aefde68a21",
   "metadata": {},
   "outputs": [
    {
     "name": "stdout",
     "output_type": "stream",
     "text": [
      "failure on try 1: 952.0000000000001, 9.52%\n",
      "failure on try 2: 888.0, 8.88%\n",
      "failure on try 3: 838.0, 8.38%\n",
      "failure on try 4: 733.0, 7.33%\n"
     ]
    }
   ],
   "source": [
    "try_01 = np.sum(cases == 1)/N\n",
    "try_02 = np.sum(cases == 2)/N\n",
    "try_03 = np.sum(cases == 3)/N\n",
    "try_04 = np.sum(cases == 4)/N\n",
    "\n",
    "print('failure on try 1: {}, {:1.2f}%'.format(try_01*N, 100*try_01))\n",
    "\n",
    "print('failure on try 2: {}, {:1.2f}%'.format(try_02*N, 100*try_02))\n",
    "\n",
    "print('failure on try 3: {}, {:1.2f}%'.format(try_03*N, 100*try_03))\n",
    "\n",
    "print('failure on try 4: {}, {:1.2f}%'.format(try_04*N, 100*try_04))\n"
   ]
  },
  {
   "cell_type": "code",
   "execution_count": 14,
   "id": "98471f67-7f58-4dc6-8ce7-6b598a8c128b",
   "metadata": {},
   "outputs": [
    {
     "data": {
      "text/plain": [
       "0.07289999999999999"
      ]
     },
     "execution_count": 14,
     "metadata": {},
     "output_type": "execute_result"
    }
   ],
   "source": [
    "1/10*9/10*9/10*9/10"
   ]
  }
 ],
 "metadata": {
  "kernelspec": {
   "display_name": "Python 3 (ipykernel)",
   "language": "python",
   "name": "python3"
  },
  "language_info": {
   "codemirror_mode": {
    "name": "ipython",
    "version": 3
   },
   "file_extension": ".py",
   "mimetype": "text/x-python",
   "name": "python",
   "nbconvert_exporter": "python",
   "pygments_lexer": "ipython3",
   "version": "3.9.7"
  }
 },
 "nbformat": 4,
 "nbformat_minor": 5
}
