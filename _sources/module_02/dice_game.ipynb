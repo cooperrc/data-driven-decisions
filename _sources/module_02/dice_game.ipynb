{
 "cells": [
  {
   "cell_type": "code",
   "execution_count": 1,
   "id": "1e0ef1f7",
   "metadata": {},
   "outputs": [],
   "source": [
    "import numpy as np\n",
    "import matplotlib.pyplot as plt\n",
    "plt.style.use('fivethirtyeight')"
   ]
  },
  {
   "cell_type": "code",
   "execution_count": 2,
   "id": "9f289fbf",
   "metadata": {},
   "outputs": [],
   "source": [
    "from numpy.random import default_rng\n",
    "rng = default_rng(42)"
   ]
  },
  {
   "cell_type": "markdown",
   "id": "158b6e14",
   "metadata": {},
   "source": [
    "# Building your own random numbers\n",
    "\n",
    "Let's play a game. We'll pretend we can roll dice and add numbers almost instantly. If we roll a six-sided die, we should be able to create random numbers between 1 and 6. These would come in handy for generating password authentication, crypto, and other Monte Carlo and random number applications. \n",
    "\n",
    "We know that if we roll the die 6 times, that's not enough because there is a chance that some sides won't appear at all. We need an equal chance of getting 1 and of getting 6. How many rolls is enough?"
   ]
  },
  {
   "cell_type": "code",
   "execution_count": 61,
   "id": "c2ac646b",
   "metadata": {},
   "outputs": [],
   "source": [
    "def dice_roll(number_of_dice = 1, \n",
    "             number_of_throws = 1, \n",
    "             number_of_sides = 6):\n",
    "    dice = rng.integers(1,\n",
    "                        number_of_sides+1, \n",
    "                        size = (number_of_throws, \n",
    "                                number_of_dice))\n",
    "#     dice.reshape((number_of_dice, number_of_throws))\n",
    "    return  np.sum(dice, axis = 1), dice"
   ]
  },
  {
   "cell_type": "code",
   "execution_count": 72,
   "id": "9e58ce38",
   "metadata": {},
   "outputs": [
    {
     "data": {
      "text/plain": [
       "(array([18., 15., 16., 20., 17., 14.]),\n",
       " array([1, 2, 3, 4, 5, 6, 7]),\n",
       " <BarContainer object of 6 artists>)"
      ]
     },
     "execution_count": 72,
     "metadata": {},
     "output_type": "execute_result"
    },
    {
     "data": {
      "image/png": "[encoded data removed]",
      "text/plain": [
       "<Figure size 432x288 with 1 Axes>"
      ]
     },
     "metadata": {},
     "output_type": "display_data"
    }
   ],
   "source": [
    "n_rolls = 100\n",
    "sums, dice = dice_roll(number_of_dice=N,\n",
    "                      number_of_throws=100)\n",
    "plt.hist(sums, np.arange(1, N*6+2))\n",
    "# plt.boxplot(sums, vert=False)"
   ]
  },
  {
   "cell_type": "code",
   "execution_count": 70,
   "id": "36e28fce",
   "metadata": {},
   "outputs": [
    {
     "data": {
      "text/plain": [
       "{'whiskers': [<matplotlib.lines.Line2D at 0x762fbbd42a90>,\n",
       "  <matplotlib.lines.Line2D at 0x762fbbd42df0>],\n",
       " 'caps': [<matplotlib.lines.Line2D at 0x762fbbd4f190>,\n",
       "  <matplotlib.lines.Line2D at 0x762fbbd4f4f0>],\n",
       " 'boxes': [<matplotlib.lines.Line2D at 0x762fbbd42730>],\n",
       " 'medians': [<matplotlib.lines.Line2D at 0x762fbbd4f850>],\n",
       " 'fliers': [<matplotlib.lines.Line2D at 0x762fbbd4fbb0>],\n",
       " 'means': []}"
      ]
     },
     "execution_count": 70,
     "metadata": {},
     "output_type": "execute_result"
    },
    {
     "data": {
      "image/png": "[encoded data removed]",
      "text/plain": [
       "<Figure size 432x288 with 1 Axes>"
      ]
     },
     "metadata": {},
     "output_type": "display_data"
    }
   ],
   "source": [
    "plt.boxplot(sums)"
   ]
  },
  {
   "cell_type": "code",
   "execution_count": 52,
   "id": "9d33d991",
   "metadata": {},
   "outputs": [
    {
     "data": {
      "text/plain": [
       "array([[[ 3,  4,  5,  6,  7,  8],\n",
       "        [ 4,  5,  6,  7,  8,  9],\n",
       "        [ 5,  6,  7,  8,  9, 10],\n",
       "        [ 6,  7,  8,  9, 10, 11],\n",
       "        [ 7,  8,  9, 10, 11, 12],\n",
       "        [ 8,  9, 10, 11, 12, 13]],\n",
       "\n",
       "       [[ 4,  5,  6,  7,  8,  9],\n",
       "        [ 5,  6,  7,  8,  9, 10],\n",
       "        [ 6,  7,  8,  9, 10, 11],\n",
       "        [ 7,  8,  9, 10, 11, 12],\n",
       "        [ 8,  9, 10, 11, 12, 13],\n",
       "        [ 9, 10, 11, 12, 13, 14]],\n",
       "\n",
       "       [[ 5,  6,  7,  8,  9, 10],\n",
       "        [ 6,  7,  8,  9, 10, 11],\n",
       "        [ 7,  8,  9, 10, 11, 12],\n",
       "        [ 8,  9, 10, 11, 12, 13],\n",
       "        [ 9, 10, 11, 12, 13, 14],\n",
       "        [10, 11, 12, 13, 14, 15]],\n",
       "\n",
       "       [[ 6,  7,  8,  9, 10, 11],\n",
       "        [ 7,  8,  9, 10, 11, 12],\n",
       "        [ 8,  9, 10, 11, 12, 13],\n",
       "        [ 9, 10, 11, 12, 13, 14],\n",
       "        [10, 11, 12, 13, 14, 15],\n",
       "        [11, 12, 13, 14, 15, 16]],\n",
       "\n",
       "       [[ 7,  8,  9, 10, 11, 12],\n",
       "        [ 8,  9, 10, 11, 12, 13],\n",
       "        [ 9, 10, 11, 12, 13, 14],\n",
       "        [10, 11, 12, 13, 14, 15],\n",
       "        [11, 12, 13, 14, 15, 16],\n",
       "        [12, 13, 14, 15, 16, 17]],\n",
       "\n",
       "       [[ 8,  9, 10, 11, 12, 13],\n",
       "        [ 9, 10, 11, 12, 13, 14],\n",
       "        [10, 11, 12, 13, 14, 15],\n",
       "        [11, 12, 13, 14, 15, 16],\n",
       "        [12, 13, 14, 15, 16, 17],\n",
       "        [13, 14, 15, 16, 17, 18]]])"
      ]
     },
     "execution_count": 52,
     "metadata": {},
     "output_type": "execute_result"
    }
   ],
   "source": [
    "roll_1, roll_2, roll_3 = np.meshgrid(np.arange(1, 7), np.arange(1, 7), np.arange(1, 7))\n",
    "\n",
    "roll_1+roll_2+roll_3"
   ]
  },
  {
   "cell_type": "code",
   "execution_count": null,
   "id": "0be51dff",
   "metadata": {},
   "outputs": [],
   "source": []
  }
 ],
 "metadata": {
  "kernelspec": {
   "display_name": "Python 3",
   "language": "python",
   "name": "python3"
  },
  "language_info": {
   "codemirror_mode": {
    "name": "ipython",
    "version": 3
   },
   "file_extension": ".py",
   "mimetype": "text/x-python",
   "name": "python",
   "nbconvert_exporter": "python",
   "pygments_lexer": "ipython3",
   "version": "3.9.0"
  }
 },
 "nbformat": 4,
 "nbformat_minor": 5
}
