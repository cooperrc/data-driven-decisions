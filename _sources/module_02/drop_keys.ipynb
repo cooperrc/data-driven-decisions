{
 "cells": [
  {
   "cell_type": "code",
   "execution_count": 2,
   "id": "d1f28452",
   "metadata": {},
   "outputs": [],
   "source": [
    "import numpy as np\n",
    "import matplotlib.pyplot as plt\n",
    "plt.style.use('fivethirtyeight')"
   ]
  },
  {
   "cell_type": "code",
   "execution_count": 3,
   "id": "6933ec1d",
   "metadata": {},
   "outputs": [],
   "source": [
    "from numpy.random import default_rng\n"
   ]
  },
  {
   "cell_type": "code",
   "execution_count": 4,
   "id": "6c2fbb77",
   "metadata": {},
   "outputs": [],
   "source": [
    "rng = default_rng(42)"
   ]
  },
  {
   "cell_type": "markdown",
   "id": "1a988bed",
   "metadata": {},
   "source": [
    "## Dropping keys and checking randomly\n",
    "\n",
    "[@UpandAtom - drunken man](https://youtube.com/shorts/8REMx4J9ue8?si=_rWzpVWmWPu-F_U2) has a short video that details a counterintuitive probability problem. \n",
    "\n",
    "Consider a person that goes to open their door with a key, but can't remember which one opens the door. They select one of the $N$ keys on the keyring and then try to open the door. On this first try, the chance that they open the door is 1/N. \n",
    "\n",
    "If they drop their keys and randomly select another key, what is the probablity that they pick the right key in this scenario? Naively, I would say the chance is _still_ $1/N$. This naive prediction _does not_ take into account the information we know that the keys have been dropped once already. Factoring in this information to my prediction, it changes the probability that the correct key will be selected, its actually\n",
    "\n",
    "$P(key~is~correct) = \\frac{1}{N}\\cdot\\frac{1-N}{N}$\n",
    "\n",
    "The probability that they select the correct key on the second try is probablity that they select the key correctly on this second try multiplied by the probability that they selected the key _incorrectly_ on the first try. \n",
    "\n",
    "This seems wrong, how can the probabilty change in this seemingly random selection of keys?\n",
    "\n",
    "Let's try a Monte Carlo experiment with $\\times 2$ keys, \n",
    "\n",
    "We'll build 1000 virtual people that all try to get into their houses. Each person is given 2 keys, we'll label them `0` and `1`. If they select key `0`, they get in. If they select key `1`, they drop the keys and select a new one.\n",
    "\n",
    "\n",
    "_Note: because these are virtual people we can be a little mean and leave the keys indistinguishable, so its always a random choice of `0` or `1`._\n",
    "\n",
    "According to our theory above, \n",
    "\n",
    "|number of tries|number of people|percent success|\n",
    "|---|---|---|\n",
    "|1| 500 | 50\\%|\n",
    "|2| 250 | 25\\%|\n",
    "|3| 125| 12.5\\%|\n",
    "|4| 62.5|0.0625\\%|\n",
    "\n",
    "Our random group of 1000 virtual people locked out of the apartment will have 500 people that guess correctly on the first try and only 62-63 people that guess correctly on the 4th try. "
   ]
  },
  {
   "cell_type": "code",
   "execution_count": 7,
   "id": "01bd9ea9",
   "metadata": {},
   "outputs": [
    {
     "data": {
      "text/plain": [
       "(array([  0., 491., 244., 127.,  66.,  40.,  15.,   8.,   4.,   4.]),\n",
       " array([ 0.,  1.,  2.,  3.,  4.,  5.,  6.,  7.,  8.,  9., 10.]),\n",
       " <BarContainer object of 10 artists>)"
      ]
     },
     "execution_count": 7,
     "metadata": {},
     "output_type": "execute_result"
    },
    {
     "data": {
      "image/png": "[encoded data removed]",
      "text/plain": [
       "<Figure size 432x288 with 1 Axes>"
      ]
     },
     "metadata": {},
     "output_type": "display_data"
    }
   ],
   "source": [
    "N = 1000\n",
    "cases = np.zeros(N)\n",
    "keys = np.arange(2)\n",
    "for ncase in range(N):\n",
    "    tries = 0\n",
    "    key = 10\n",
    "    while key != 0:\n",
    "        key = rng.integers(len(keys), size = 1)\n",
    "        tries += 1\n",
    "    cases[ncase] = tries\n",
    "plt.hist(cases, bins = np.arange(np.max(cases)))"
   ]
  },
  {
   "cell_type": "code",
   "execution_count": 8,
   "id": "81819375",
   "metadata": {},
   "outputs": [
    {
     "name": "stdout",
     "output_type": "stream",
     "text": [
      "success on try 1: 491.0, 49.10%\n",
      "success on try 2: 244.0, 24.40%\n",
      "success on try 3: 127.0, 12.70%\n",
      "success on try 4: 66.0, 6.60%\n"
     ]
    }
   ],
   "source": [
    "try_01 = np.sum(cases == 1)/N\n",
    "try_02 = np.sum(cases == 2)/N\n",
    "try_03 = np.sum(cases == 3)/N\n",
    "try_04 = np.sum(cases == 4)/N\n",
    "\n",
    "print('success on try 1: {}, {:1.2f}%'.format(try_01*N, 100*try_01))\n",
    "\n",
    "print('success on try 2: {}, {:1.2f}%'.format(try_02*N, 100*try_02))\n",
    "\n",
    "print('success on try 3: {}, {:1.2f}%'.format(try_03*N, 100*try_03))\n",
    "\n",
    "print('success on try 4: {}, {:1.2f}%'.format(try_04*N, 100*try_04))\n"
   ]
  },
  {
   "cell_type": "markdown",
   "id": "877ecbfa-7351-4c37-9b4d-79390b55c01e",
   "metadata": {},
   "source": [
    "Using a Monte Carlo approach, we built a discrete version of the dropping keys scenario. The results from Monte Carlo support the approach of using the probabilites of guessing correctly **and** the probabilities of previous _incorrect_ guesses to find that $\\approx60~out~of~1000$ people will guess correctly on their 4th try. "
   ]
  },
  {
   "cell_type": "code",
   "execution_count": null,
   "id": "5cb9942c",
   "metadata": {},
   "outputs": [],
   "source": []
  }
 ],
 "metadata": {
  "kernelspec": {
   "display_name": "Python 3 (ipykernel)",
   "language": "python",
   "name": "python3"
  },
  "language_info": {
   "codemirror_mode": {
    "name": "ipython",
    "version": 3
   },
   "file_extension": ".py",
   "mimetype": "text/x-python",
   "name": "python",
   "nbconvert_exporter": "python",
   "pygments_lexer": "ipython3",
   "version": "3.9.7"
  }
 },
 "nbformat": 4,
 "nbformat_minor": 5
}
